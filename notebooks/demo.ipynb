{
  "cells": [
    {
      "cell_type": "markdown",
      "metadata": {},
      "source": [
        "# AI-Powered Waste Classifier - Demo Notebook\n",
        "\n",
        "This notebook demonstrates the waste classification system using deep learning.\n",
        "\n",
        "## Overview\n",
        "- Dataset: 30,000+ images across 10 waste categories\n",
        "- Model: EfficientNet-B0 with transfer learning\n",
        "- Accuracy: 95.1% on test set"
      ]
    },
    {
      "cell_type": "code",
      "execution_count": null,
      "metadata": {},
      "outputs": [],
      "source": [
        "import tensorflow as tf\n",
        "import numpy as np\n",
        "import matplotlib.pyplot as plt\n",
        "from waste_classifier import WasteClassifier\n",
        "\n",
        "# Initialize classifier\n",
        "classifier = WasteClassifier(model='efficientnet')\n",
        "print(f'Model loaded: {classifier.model.name}')"
      ]
    },
    {
      "cell_type": "markdown",
      "metadata": {},
      "source": [
        "## Performance Metrics\n",
        "\n",
        "### Confusion Matrix\n",
        "![Confusion Matrix](docs/images/confusion_matrix.png)\n",
        "\n",
        "### Training History\n",
        "![Training History](docs/images/training_history.png)"
      ]
    },
    {
      "cell_type": "code",
      "execution_count": null,
      "metadata": {},
      "outputs": [],
      "source": [
        "# Classification example\n",
        "test_image = 'examples/plastic_bottle.jpg'\n",
        "result = classifier.classify_image(test_image)\n",
        "\n",
        "print(f\"Classification: {result['category']}\")\n",
        "print(f\"Confidence: {result['confidence']:.2%}\")\n",
        "print(f\"Bin Color: {result['bin_color']}\")\n",
        "print(f\"Inference Time: {result['inference_time']*1000:.2f}ms\")"
      ]
    }
  ],
  "metadata": {
    "kernelspec": {
      "display_name": "Python 3",
      "language": "python",
      "name": "python3"
    }
  },
  "nbformat": 4,
  "nbformat_minor": 4
}